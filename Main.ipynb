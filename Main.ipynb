{
 "cells": [
  {
   "cell_type": "markdown",
   "metadata": {},
   "source": [
    "# QuTiP heat measurement - Qubit-Cavity system"
   ]
  },
  {
   "cell_type": "code",
   "execution_count": 1,
   "metadata": {},
   "outputs": [],
   "source": [
    "%matplotlib inline\n",
    "import matplotlib.pyplot as plt\n",
    "import numpy as np"
   ]
  },
  {
   "cell_type": "code",
   "execution_count": 2,
   "metadata": {},
   "outputs": [],
   "source": [
    "import qutip"
   ]
  },
  {
   "cell_type": "markdown",
   "metadata": {},
   "source": [
    "A Hamiltonian for a system of two transmons with the drive can be written as:\n",
    "$$\\hat{H} = \\hat{H}_\\text{q} + \\hat{H}_\\text{c} + \\hat{H}_\\text{int} + \\hat{H}_\\text{d},$$\n",
    "\n",
    "where $\\hat{H}_\\text{q}$, $\\hat{H}_\\text{c}$ are transmon and cavity hamiltonians, $\\hat{H}_\\text{int}$ - interaction term, $\\hat{H}_\\text{d}$ - drive of transmon.\n",
    "\n",
    "We have already defined the operators for transmons in the previous part. The interaction term can be written as:\n",
    "\n",
    "$$\\hat{H}_\\text{int} = С_g V_q V_c.$$\n",
    "$$V_q = \\frac{2e}{C_q}n_q$$\n",
    "$$V_c = \\int_l\\vec{E}\\:d\\vec{l}$$\n",
    "$$\\vec{E}(\\vec{r}) = \\sum_m\\sqrt{\\frac{\\hbar \\omega_m}{2 \\varepsilon_0}}(a_m e^{-i \\omega_m t}\\vec{u}(\\vec{r}) + a_m^{\\dagger} e^{i \\omega_m t}\\vec{u}^*(\\vec{r}))$$\n",
    "\n",
    "Using Lumped element approx\n",
    "$$V_c = \\sum_m\\sqrt{\\frac{\\hbar \\omega_m}{2 \\varepsilon_0}}(a_m e^{-i \\omega_m t}\\int_l\\vec{u}(\\vec{r})d\\vec{l} + a_m^{\\dagger} e^{i \\omega_m t}\\int_l\\vec{u}^*(\\vec{r})d\\vec{l}) = /\\text{for  CPW} / =  \\sum_m\\sqrt{\\frac{\\hbar \\omega_m}{2 \\varepsilon_0}}W(a_m e^{-i \\omega_m t} + a_m^{\\dagger} e^{i \\omega_m t}) $$\n",
    "\n",
    "So, \n",
    "$$H_{int} = J n_q(a_{\\omega} e^{-i \\omega t} + a_{\\omega}^{\\dagger} e^{i \\omega t} )$$\n",
    "$$J = C_g \\frac{2e}{C_q}W\\sqrt{\\frac{\\hbar \\omega}{2 \\varepsilon_0}}$$\n",
    "\n",
    "The drive hamiltonian should also be modified to act on two qubits resulting in (neglecting drive of the resonator):\n",
    "\n",
    "$$\\hat{H}_\\text{d} = \\alpha n_{q} \\cos \\omega t\\:( + i \\alpha n_{q} \\sin \\omega t )$$"
   ]
  },
  {
   "cell_type": "code",
   "execution_count": 3,
   "metadata": {},
   "outputs": [],
   "source": [
    "def PlotStateDynamics(result, reference_state, *args, **kwargs):\n",
    "    \"\"\"\n",
    "    Plot the evolution of the state given \n",
    "        the result of mesolve\n",
    "    \n",
    "    Args:\n",
    "        state (qobj): state to calculate a scalar product with\n",
    "        result (obj): result object from mesolve\n",
    "\n",
    "    \"\"\"\n",
    "\n",
    "    plt.ylabel(r\"$|\\langle \\psi(t) | 0 \\rangle|^2$\", fontsize=16)\n",
    "    plt.xlabel(r'time', fontsize=16)\n",
    "    plt.plot(result.times, \n",
    "             [np.abs(reference_state.overlap(state))**2 for state in result.states],\n",
    "              *args, **kwargs)\n",
    "    \n",
    "def PlotExpectationDynamics(result, idx=0, *args, **kwargs):\n",
    "    \"\"\"\n",
    "    Plot the evolution of the expectation value given \n",
    "        the result of mesolve\n",
    "    \n",
    "    Args:\n",
    "        result (obj): result object from mesolve\n",
    "        idx (int): index of value in result.expext\n",
    "\n",
    "    \"\"\"\n",
    "\n",
    "    plt.ylabel(r\"Charge $\\langle n \\rangle$\", fontsize=16)\n",
    "    plt.xlabel(r'time', fontsize=16)\n",
    "    plt.axhline(0, c='k');\n",
    "    plt.plot(result.times, result.expect[idx], *args, **kwargs)"
   ]
  },
  {
   "cell_type": "code",
   "execution_count": 4,
   "metadata": {},
   "outputs": [],
   "source": [
    "class Qubit:\n",
    "    \"\"\"A convenient class representing qubit and drive parameters\"\"\"\n",
    "    \n",
    "    def __init__(self, Ec, Esum, d, T1 = 0, T2 = 0, N = 10):\n",
    "        \"\"\"\n",
    "        Args:\n",
    "            Ec (float): qubit parameter\n",
    "            Esum (float): sum of Ej parameters in SQUID\n",
    "            d (float): assymetry coefficient of SQUID\n",
    "            alpha (float): drive amplitude\n",
    "            omega (float): drive frequency\n",
    "            N (int): number of levels in charge basis\n",
    "\n",
    "        \"\"\"\n",
    "\n",
    "        self.Ec = Ec\n",
    "        self.Esum = Esum\n",
    "        self.d = d\n",
    "        self.N = N\n",
    "        self.w0 = np.sqrt(8*self.get_Ej(0)*self.Ec)\n",
    "        self.anharmonicity = -self.Ec\n",
    "        \n",
    "        #Времена жизни может надо по-итрому задавать\n",
    "#         self.T1 = T1\n",
    "#         self.T2 = T2\n",
    "#         self.Tphi = 0\n",
    "        \n",
    "    def __repr__(self):\n",
    "        self._plot_spectrum()\n",
    "        return \"Transmon qubit \\n\" + r'plasma freq = ' + str(self.w0) + '\\n'\\\n",
    "    + 'anharmonicity = ' + str(self.anharmonicity)\n",
    "        \n",
    "    def get_Ej(self, phi_ext):\n",
    "        \"\"\"\n",
    "        Args\n",
    "            phi_ext (float): external flux (phase)\n",
    "            \n",
    "        Returns:\n",
    "            Ej parameter at a given flux\n",
    "\n",
    "        \"\"\"\n",
    "\n",
    "        return self.Esum*np.abs(np.cos(phi_ext/2))*np.sqrt(1 + self.d**2*np.tan(phi_ext/2)**2)\n",
    "    \n",
    "    \"\"\"We redefine several qutip operators for convenience\n",
    "       you can just use them as qubit.operator() \"\"\"\n",
    "    \n",
    "    def eye(self):\n",
    "        return qutip.qeye(2*self.N + 1)\n",
    "    \n",
    "    def create(self):\n",
    "        return qutip.create(2*self.N + 1)\n",
    "    \n",
    "    def destroy(self):\n",
    "        return qutip.destroy(2*self.N + 1)\n",
    "    \n",
    "    def num(self):\n",
    "        return qutip.num(2*self.N + 1)\n",
    "    \n",
    "    def tunneling(self):\n",
    "        return qutip.tunneling(2*self.N + 1, m = 1)\n",
    "    \n",
    "    def charge(self):\n",
    "        return qutip.charge(self.N)\n",
    "    \n",
    "    def _energy(self, phi, n):\n",
    "        Ej = self.get_Ej(phi)\n",
    "        Ec = self.Ec\n",
    "        return -Ej + np.sqrt(8*Ej*Ec)*(n + 0.5) - Ec*0.5*(n**2 + n + 0.5)\n",
    "    \n",
    "    def hamiltonian(self):\n",
    "        def H(phi_ext):\n",
    "            Ej = self.get_Ej(phi_ext)\n",
    "            \n",
    "            Htr = 4*self.Ec*self.charge()**2\n",
    "            Htr += -Ej*0.5*self.tunneling()\n",
    "            return Htr\n",
    "        return H\n",
    "    \n",
    "    def _plot_spectrum(self):\n",
    "        \n",
    "        phi = np.linspace(-1.3*np.pi, 1.3*np.pi, 1000)\n",
    "        fig,ax = plt.subplots()\n",
    "        ax.plot(phi, self._energy(phi, 1) - self._energy(phi, 0))\n",
    "        ax.plot(phi, self._energy(phi, 2) - self._energy(phi, 1))\n",
    "        plt.plot"
   ]
  },
  {
   "cell_type": "code",
   "execution_count": 5,
   "metadata": {},
   "outputs": [
    {
     "data": {
      "text/plain": [
       "Transmon qubit \n",
       "plasma freq = 10.0\n",
       "anharmonicity = -0.25"
      ]
     },
     "execution_count": 5,
     "metadata": {},
     "output_type": "execute_result"
    },
    {
     "data": {
      "image/png": "[encoded data removed]",
      "text/plain": [
       "<Figure size 432x288 with 1 Axes>"
      ]
     },
     "metadata": {
      "needs_background": "light"
     },
     "output_type": "display_data"
    }
   ],
   "source": [
    "q = Qubit(Ec=1/4, Esum=50, d=0.7, N=1)\n",
    "q"
   ]
  },
  {
   "cell_type": "code",
   "execution_count": 6,
   "metadata": {},
   "outputs": [],
   "source": [
    "class Cavity:\n",
    "    \"\"\"A convenient class representing qubit and drive parameters\"\"\"\n",
    "    \n",
    "    def __init__(self, w, N):\n",
    "        \"\"\"\n",
    "        Args:\n",
    "            w (float): cavity freq\n",
    "            N (int): number of levels in basis\n",
    "\n",
    "        \"\"\"\n",
    "\n",
    "        self.w = w\n",
    "        self.N = N\n",
    "\n",
    "\n",
    "    \n",
    "    \"\"\"We redefine several qutip operators for convenience\n",
    "       you can just use them as qubit.operator() \"\"\"\n",
    "    \n",
    "    def eye(self):\n",
    "        return qutip.qeye(self.N)\n",
    "    \n",
    "    def create(self):\n",
    "        return qutip.create(self.N)\n",
    "    \n",
    "    def destroy(self):\n",
    "        return qutip.destroy(self.N)\n",
    "       \n",
    "    def hamiltonian(self):\n",
    "        return self.w*(self.create()*self.destroy() + 0.5)\n"
   ]
  },
  {
   "cell_type": "code",
   "execution_count": 7,
   "metadata": {},
   "outputs": [],
   "source": [
    "def qsys(qubit, cavity, phi_ext, interaction):\n",
    "    return qutip.tensor(qubit.hamiltonian()(phi_ext), cavity.eye()) +\\\n",
    "            qutip.tensor(qubit.eye(), cavity.hamiltonian()) + interaction\n",
    "\n",
    "def interaction(t, qubit, cavity, J):\n",
    "    w = cavity.w\n",
    "    a = cavity.destroy()\n",
    "    n = qubit.charge()\n",
    "    def time_exp(t):  # coefficient function\n",
    "#         return np.exp(-1j*args['w']*t)\n",
    "        return np.exp(-1j*w*t)\n",
    "#     Hint = J*qutip.tensor(n,[[a, time_exp],[a.dag(), np.conj(time_exp)]])\n",
    "#     Hint = J*qutip.tensor(n, a + a.dag())\n",
    "    Hint = J*qutip.tensor(n, a*time_exp(t) + a.dag()*np.conj(time_exp(t)))\n",
    "    return Hint\n",
    "\n",
    "\n",
    "    \n",
    "\n",
    "def plotSystemSpectrum(phi_ext, eigenstates, nfirst=2):\n",
    "    \"\"\"Plots the energy spectrum\n",
    "    \n",
    "    Args:\n",
    "        phi_ext (float): qubit parameter.\n",
    "        eigenstates (obj): qubit eigenstates.\n",
    "        nfirst (int): number of energy levels to plot.\n",
    "\n",
    "    \"\"\"\n",
    "    fig, ax = plt.subplots()\n",
    "    for i in range(1,  min(nfirst, len(eigenstates[0, 0, :]))):\n",
    "        ax.plot(phi_ext/(2*np.pi), eigenstates[:,0,i] - eigenstates[:,0,i-1])\n",
    "        ax.plot(phi_ext/(2*np.pi), eigenstates[:,0,i+1] - eigenstates[:,0,i-1])\n",
    "    plt.xlabel(r\"External flux $\\varphi_{ext}$\", fontsize=12)\n",
    "    plt.ylabel(r\"Energy, $E$\", fontsize=12)\n",
    "    plt.show()"
   ]
  },
  {
   "cell_type": "code",
   "execution_count": 8,
   "metadata": {},
   "outputs": [
    {
     "data": {
      "image/png": "[encoded data removed]",
      "text/plain": [
       "<Figure size 432x288 with 1 Axes>"
      ]
     },
     "metadata": {
      "needs_background": "light"
     },
     "output_type": "display_data"
    }
   ],
   "source": [
    "q = Qubit(Ec=1/4, Esum=50, d=0.7, N=5)\n",
    "c = Cavity(w = 9.5, N = 5)\n",
    "\n",
    "phi_ext = np.linspace(-np.pi, np.pi, 100)\n",
    "Hint = interaction(0, q, c, 0.1)\n",
    "\n",
    "eigenstates = np.array([qsys(q, c, phi_ext, Hint).eigenstates()\n",
    "                        for phi_ext in phi_ext])\n",
    "plotSystemSpectrum(phi_ext, eigenstates)"
   ]
  },
  {
   "cell_type": "code",
   "execution_count": null,
   "metadata": {},
   "outputs": [],
   "source": [
    "q = Qubit(Ec=1/4, Esum=50, d=0.7, N=3)\n",
    "c = Cavity(w = 9.5, N = 3)\n",
    "phi_ext = 0\n",
    "times = np.linspace(0, 0.01, 10)\n",
    "\n",
    "# def H(t, args):\n",
    "#     Hint = interaction(t, q, c, 0.1)\n",
    "#     return qsys(q, c, phi_ext, Hint)\n",
    "\n",
    "Hq = q.hamiltonian()(phi_ext)\n",
    "Hc = c.hamiltonian()\n",
    "q_eigenstates = Hq.eigenstates()\n",
    "c_eigenstates = Hc.eigenstates()\n",
    "\n",
    "Hint = interaction(0, q, c, 0.1)\n",
    "H = qsys(q, c, phi_ext, Hint)\n",
    "eigenstates = H.eigenstates()\n",
    "\n",
    "# ground_state = qutip.tensor(q_eigenstates[1][0], c_eigenstates[1][1])\n",
    "ground_state = eigenstates[1][1]\n",
    "# print(ground_state)\n",
    "\n",
    "c_ops = []\n",
    "c_ops.append(np.sqrt(0.01) * qutip.tensor(q.destroy(), c.eye()))\n",
    "\n",
    "result = qutip.mesolve(H, ground_state,\n",
    "                    times, c_ops, [q.charge()], args = None,\n",
    "#                     options=qutip.Options(nsteps=1e5, store_states=True), \n",
    "                       progress_bar = True)"
   ]
  },
  {
   "cell_type": "code",
   "execution_count": null,
   "metadata": {},
   "outputs": [],
   "source": [
    "plt.figure(figsize=(15, 4))\n",
    "plt.subplot(1, 2, 1)\n",
    "PlotStateDynamics(result, ground_state)\n",
    "plt.subplot(1, 2, 2)\n",
    "PlotExpectationDynamics(result)"
   ]
  },
  {
   "cell_type": "code",
   "execution_count": null,
   "metadata": {},
   "outputs": [],
   "source": []
  },
  {
   "cell_type": "code",
   "execution_count": null,
   "metadata": {},
   "outputs": [],
   "source": []
  },
  {
   "cell_type": "markdown",
   "metadata": {},
   "source": [
    "### Problem parameters\n",
    "\n",
    "\n",
    "Here we use units where $\\hbar = 1$: "
   ]
  },
  {
   "cell_type": "code",
   "execution_count": 3,
   "metadata": {},
   "outputs": [],
   "source": [
    "wc = 1.0  * 2 * np.pi  # cavity frequency\n",
    "wa = 0.010  * 2 * np.pi  # atom frequency\n",
    "g  = 0.05 * 2 * np.pi  # coupling strength\n",
    "kappa = 0.005       # cavity dissipation rate\n",
    "gamma = 0.05        # atom dissipation rate\n",
    "gamma_phi = 0.01    # atom fephasing rate\n",
    "N = 15              # number of cavity fock states\n",
    "n_th_a = 0.0        # avg number of thermal bath excitation ! возможно тут то, что мне надо\n",
    "use_rwa = False\n",
    "\n",
    "Q = 100"
   ]
  },
  {
   "cell_type": "markdown",
   "metadata": {},
   "source": [
    "### Setup the operators, the Hamiltonian and initial state"
   ]
  },
  {
   "cell_type": "code",
   "execution_count": 9,
   "metadata": {},
   "outputs": [],
   "source": [
    "\n",
    "\n",
    "# operators\n",
    "a  = tensor(destroy(N), qeye(2))\n",
    "sm = tensor(qeye(N), destroy(2)) #здесь важно, что фоковские состояния в qutip \"развернуты\", то есть сигмаz требуется домножать на -1\n",
    "# также здесь смещение уровня на постоянную величину\n",
    "\n",
    "# Hamiltonian\n",
    "def set_H():\n",
    "    if use_rwa:\n",
    "        H = wc * a.dag() * a + wa * sm.dag() * sm + g * (a.dag() * sm + a * sm.dag())\n",
    "    else:\n",
    "        H = wc * a.dag() * a + wa * sm.dag() * sm + g * (a.dag() + a) * (sm + sm.dag())\n",
    "    return H"
   ]
  },
  {
   "cell_type": "code",
   "execution_count": 5,
   "metadata": {},
   "outputs": [
    {
     "data": {
      "text/latex": [
       "Quantum object: dims = [[15, 2], [15, 2]], shape = (30, 30), type = oper, isherm = True\\begin{equation*}\\left(\\begin{array}{*{11}c}0.0 & 0.0 & 0.0 & 0.0 & 0.0 & \\cdots & 0.0 & 0.0 & 0.0 & 0.0 & 0.0\\\\0.0 & 1.0 & 0.0 & 0.0 & 0.0 & \\cdots & 0.0 & 0.0 & 0.0 & 0.0 & 0.0\\\\0.0 & 0.0 & 0.0 & 0.0 & 0.0 & \\cdots & 0.0 & 0.0 & 0.0 & 0.0 & 0.0\\\\0.0 & 0.0 & 0.0 & 1.0 & 0.0 & \\cdots & 0.0 & 0.0 & 0.0 & 0.0 & 0.0\\\\0.0 & 0.0 & 0.0 & 0.0 & 0.0 & \\cdots & 0.0 & 0.0 & 0.0 & 0.0 & 0.0\\\\\\vdots & \\vdots & \\vdots & \\vdots & \\vdots & \\ddots & \\vdots & \\vdots & \\vdots & \\vdots & \\vdots\\\\0.0 & 0.0 & 0.0 & 0.0 & 0.0 & \\cdots & 1.0 & 0.0 & 0.0 & 0.0 & 0.0\\\\0.0 & 0.0 & 0.0 & 0.0 & 0.0 & \\cdots & 0.0 & 0.0 & 0.0 & 0.0 & 0.0\\\\0.0 & 0.0 & 0.0 & 0.0 & 0.0 & \\cdots & 0.0 & 0.0 & 1.0 & 0.0 & 0.0\\\\0.0 & 0.0 & 0.0 & 0.0 & 0.0 & \\cdots & 0.0 & 0.0 & 0.0 & 0.0 & 0.0\\\\0.0 & 0.0 & 0.0 & 0.0 & 0.0 & \\cdots & 0.0 & 0.0 & 0.0 & 0.0 & 1.0\\\\\\end{array}\\right)\\end{equation*}"
      ],
      "text/plain": [
       "Quantum object: dims = [[15, 2], [15, 2]], shape = (30, 30), type = oper, isherm = True\n",
       "Qobj data =\n",
       "[[0. 0. 0. 0. 0. 0. 0. 0. 0. 0. 0. 0. 0. 0. 0. 0. 0. 0. 0. 0. 0. 0. 0. 0.\n",
       "  0. 0. 0. 0. 0. 0.]\n",
       " [0. 1. 0. 0. 0. 0. 0. 0. 0. 0. 0. 0. 0. 0. 0. 0. 0. 0. 0. 0. 0. 0. 0. 0.\n",
       "  0. 0. 0. 0. 0. 0.]\n",
       " [0. 0. 0. 0. 0. 0. 0. 0. 0. 0. 0. 0. 0. 0. 0. 0. 0. 0. 0. 0. 0. 0. 0. 0.\n",
       "  0. 0. 0. 0. 0. 0.]\n",
       " [0. 0. 0. 1. 0. 0. 0. 0. 0. 0. 0. 0. 0. 0. 0. 0. 0. 0. 0. 0. 0. 0. 0. 0.\n",
       "  0. 0. 0. 0. 0. 0.]\n",
       " [0. 0. 0. 0. 0. 0. 0. 0. 0. 0. 0. 0. 0. 0. 0. 0. 0. 0. 0. 0. 0. 0. 0. 0.\n",
       "  0. 0. 0. 0. 0. 0.]\n",
       " [0. 0. 0. 0. 0. 1. 0. 0. 0. 0. 0. 0. 0. 0. 0. 0. 0. 0. 0. 0. 0. 0. 0. 0.\n",
       "  0. 0. 0. 0. 0. 0.]\n",
       " [0. 0. 0. 0. 0. 0. 0. 0. 0. 0. 0. 0. 0. 0. 0. 0. 0. 0. 0. 0. 0. 0. 0. 0.\n",
       "  0. 0. 0. 0. 0. 0.]\n",
       " [0. 0. 0. 0. 0. 0. 0. 1. 0. 0. 0. 0. 0. 0. 0. 0. 0. 0. 0. 0. 0. 0. 0. 0.\n",
       "  0. 0. 0. 0. 0. 0.]\n",
       " [0. 0. 0. 0. 0. 0. 0. 0. 0. 0. 0. 0. 0. 0. 0. 0. 0. 0. 0. 0. 0. 0. 0. 0.\n",
       "  0. 0. 0. 0. 0. 0.]\n",
       " [0. 0. 0. 0. 0. 0. 0. 0. 0. 1. 0. 0. 0. 0. 0. 0. 0. 0. 0. 0. 0. 0. 0. 0.\n",
       "  0. 0. 0. 0. 0. 0.]\n",
       " [0. 0. 0. 0. 0. 0. 0. 0. 0. 0. 0. 0. 0. 0. 0. 0. 0. 0. 0. 0. 0. 0. 0. 0.\n",
       "  0. 0. 0. 0. 0. 0.]\n",
       " [0. 0. 0. 0. 0. 0. 0. 0. 0. 0. 0. 1. 0. 0. 0. 0. 0. 0. 0. 0. 0. 0. 0. 0.\n",
       "  0. 0. 0. 0. 0. 0.]\n",
       " [0. 0. 0. 0. 0. 0. 0. 0. 0. 0. 0. 0. 0. 0. 0. 0. 0. 0. 0. 0. 0. 0. 0. 0.\n",
       "  0. 0. 0. 0. 0. 0.]\n",
       " [0. 0. 0. 0. 0. 0. 0. 0. 0. 0. 0. 0. 0. 1. 0. 0. 0. 0. 0. 0. 0. 0. 0. 0.\n",
       "  0. 0. 0. 0. 0. 0.]\n",
       " [0. 0. 0. 0. 0. 0. 0. 0. 0. 0. 0. 0. 0. 0. 0. 0. 0. 0. 0. 0. 0. 0. 0. 0.\n",
       "  0. 0. 0. 0. 0. 0.]\n",
       " [0. 0. 0. 0. 0. 0. 0. 0. 0. 0. 0. 0. 0. 0. 0. 1. 0. 0. 0. 0. 0. 0. 0. 0.\n",
       "  0. 0. 0. 0. 0. 0.]\n",
       " [0. 0. 0. 0. 0. 0. 0. 0. 0. 0. 0. 0. 0. 0. 0. 0. 0. 0. 0. 0. 0. 0. 0. 0.\n",
       "  0. 0. 0. 0. 0. 0.]\n",
       " [0. 0. 0. 0. 0. 0. 0. 0. 0. 0. 0. 0. 0. 0. 0. 0. 0. 1. 0. 0. 0. 0. 0. 0.\n",
       "  0. 0. 0. 0. 0. 0.]\n",
       " [0. 0. 0. 0. 0. 0. 0. 0. 0. 0. 0. 0. 0. 0. 0. 0. 0. 0. 0. 0. 0. 0. 0. 0.\n",
       "  0. 0. 0. 0. 0. 0.]\n",
       " [0. 0. 0. 0. 0. 0. 0. 0. 0. 0. 0. 0. 0. 0. 0. 0. 0. 0. 0. 1. 0. 0. 0. 0.\n",
       "  0. 0. 0. 0. 0. 0.]\n",
       " [0. 0. 0. 0. 0. 0. 0. 0. 0. 0. 0. 0. 0. 0. 0. 0. 0. 0. 0. 0. 0. 0. 0. 0.\n",
       "  0. 0. 0. 0. 0. 0.]\n",
       " [0. 0. 0. 0. 0. 0. 0. 0. 0. 0. 0. 0. 0. 0. 0. 0. 0. 0. 0. 0. 0. 1. 0. 0.\n",
       "  0. 0. 0. 0. 0. 0.]\n",
       " [0. 0. 0. 0. 0. 0. 0. 0. 0. 0. 0. 0. 0. 0. 0. 0. 0. 0. 0. 0. 0. 0. 0. 0.\n",
       "  0. 0. 0. 0. 0. 0.]\n",
       " [0. 0. 0. 0. 0. 0. 0. 0. 0. 0. 0. 0. 0. 0. 0. 0. 0. 0. 0. 0. 0. 0. 0. 1.\n",
       "  0. 0. 0. 0. 0. 0.]\n",
       " [0. 0. 0. 0. 0. 0. 0. 0. 0. 0. 0. 0. 0. 0. 0. 0. 0. 0. 0. 0. 0. 0. 0. 0.\n",
       "  0. 0. 0. 0. 0. 0.]\n",
       " [0. 0. 0. 0. 0. 0. 0. 0. 0. 0. 0. 0. 0. 0. 0. 0. 0. 0. 0. 0. 0. 0. 0. 0.\n",
       "  0. 1. 0. 0. 0. 0.]\n",
       " [0. 0. 0. 0. 0. 0. 0. 0. 0. 0. 0. 0. 0. 0. 0. 0. 0. 0. 0. 0. 0. 0. 0. 0.\n",
       "  0. 0. 0. 0. 0. 0.]\n",
       " [0. 0. 0. 0. 0. 0. 0. 0. 0. 0. 0. 0. 0. 0. 0. 0. 0. 0. 0. 0. 0. 0. 0. 0.\n",
       "  0. 0. 0. 1. 0. 0.]\n",
       " [0. 0. 0. 0. 0. 0. 0. 0. 0. 0. 0. 0. 0. 0. 0. 0. 0. 0. 0. 0. 0. 0. 0. 0.\n",
       "  0. 0. 0. 0. 0. 0.]\n",
       " [0. 0. 0. 0. 0. 0. 0. 0. 0. 0. 0. 0. 0. 0. 0. 0. 0. 0. 0. 0. 0. 0. 0. 0.\n",
       "  0. 0. 0. 0. 0. 1.]]"
      ]
     },
     "execution_count": 5,
     "metadata": {},
     "output_type": "execute_result"
    }
   ],
   "source": [
    "sm.dag() * sm"
   ]
  },
  {
   "cell_type": "markdown",
   "metadata": {},
   "source": [
    "### Create a list of collapse operators that describe the dissipation"
   ]
  },
  {
   "cell_type": "code",
   "execution_count": 6,
   "metadata": {},
   "outputs": [],
   "source": [
    "def sd_ohmic(w, w_cutoff = wc, s = 1): # spectral dencity of resistor \n",
    "    return w_cutoff*(w/w_cutoff)**s*np.exp(-w/w_cutoff)\n",
    "\n",
    "def gamma_func(gamma, Q, wa, wc): # это не верно. g не зависит от частоты!\n",
    "    return gamma/Q*wc**4/((wa**2-wc**2)**2 + wa**4/Q**2)\n",
    "\n",
    "# n_thermal is defined bubose statistics\n",
    "def init_c_ops():\n",
    "    c_ops = []\n",
    "\n",
    "    # cavity relaxation\n",
    "    rate = kappa * (1 + n_th_a)\n",
    "    if rate > 0.0:\n",
    "        c_ops.append(np.sqrt(rate) * a)\n",
    "\n",
    "    # cavity excitation, if temperature > 0\n",
    "    rate = kappa * n_th_a\n",
    "    if rate > 0.0:\n",
    "        c_ops.append(np.sqrt(rate) * a.dag())\n",
    "\n",
    "    # qubit relaxation\n",
    "#     rate = gamma_func(gamma, Q, wa, wc)\n",
    "    rate = gamma\n",
    "    if rate > 0.0:\n",
    "        c_ops.append(np.sqrt(rate) * sm)\n",
    "    \n",
    "    # qubit dephasing rate\n",
    "    rate = gamma_phi\n",
    "    if rate > 0.0:\n",
    "        c_ops.append(np.sqrt(rate) * sm.dag() * sm)\n",
    "    return c_ops"
   ]
  },
  {
   "cell_type": "markdown",
   "metadata": {},
   "source": [
    "### Evolve the system\n",
    "\n",
    "Here we evolve the system with the Lindblad master equation solver, and we request that the expectation values of the operators $a^\\dagger a$ and $\\sigma_+\\sigma_-$ are returned by the solver by passing the list `[a.dag()*a, sm.dag()*sm]` as the fifth argument to the solver."
   ]
  },
  {
   "cell_type": "code",
   "execution_count": 12,
   "metadata": {},
   "outputs": [],
   "source": [
    "# intial state\n",
    "wa = 0.01  * 2 * np.pi \n",
    "g  = 0.05 * 2 * np.pi\n",
    "c_ops = init_c_ops()\n",
    "H = set_H()\n",
    "\n",
    "psi0 = tensor(basis(N,5), basis(2,1))   \n",
    "\n",
    "tlist = np.linspace(0,1000,2001)\n",
    "\n",
    "output = mesolve(H, psi0, tlist, c_ops, [a.dag() * a, sm.dag() * sm])"
   ]
  },
  {
   "cell_type": "markdown",
   "metadata": {},
   "source": [
    "## Visualize the results\n",
    "\n",
    "Here we plot the excitation probabilities of the cavity and the atom (these expectation values were calculated by the `mesolve` above). We can clearly see how energy is being coherently transferred back and forth between the cavity and the atom."
   ]
  },
  {
   "cell_type": "code",
   "execution_count": 13,
   "metadata": {
    "scrolled": false
   },
   "outputs": [
    {
     "data": {
      "text/plain": [
       "Text(0.5, 1.0, 'Vacuum Rabi oscillations')"
      ]
     },
     "execution_count": 13,
     "metadata": {},
     "output_type": "execute_result"
    },
    {
     "data": {
      "image/png": "[encoded data removed]",
      "text/plain": [
       "<Figure size 576x360 with 1 Axes>"
      ]
     },
     "metadata": {
      "needs_background": "light"
     },
     "output_type": "display_data"
    }
   ],
   "source": [
    "n_c = output.expect[0]\n",
    "n_a = output.expect[1]\n",
    "\n",
    "fig, axes = plt.subplots(1, 1, figsize=(8,5))\n",
    "\n",
    "axes.plot(tlist, n_c, label=\"Cavity\")\n",
    "axes.plot(tlist, n_a, label=\"Atom excited state\")\n",
    "axes.legend(loc=0)\n",
    "axes.set_xlabel('Time')\n",
    "axes.set_ylabel('Occupation probability')\n",
    "axes.set_title('Vacuum Rabi oscillations')"
   ]
  },
  {
   "cell_type": "code",
   "execution_count": 39,
   "metadata": {},
   "outputs": [
    {
     "data": {
      "text/plain": [
       "[<matplotlib.lines.Line2D at 0x22516dbdd88>]"
      ]
     },
     "execution_count": 39,
     "metadata": {},
     "output_type": "execute_result"
    },
    {
     "data": {
      "image/png": "[encoded data removed]",
      "text/plain": [
       "<Figure size 432x288 with 1 Axes>"
      ]
     },
     "metadata": {
      "needs_background": "light"
     },
     "output_type": "display_data"
    }
   ],
   "source": [
    "n_th_arr = np.linspace(0,10,20)\n",
    "psi0 = tensor(basis(N,0), basis(2,0)) \n",
    "output = np.array([])\n",
    "for n_th_a in n_th_arr:\n",
    "    c_ops = init_c_ops()\n",
    "    psi0 = tensor(basis(N,5), basis(2,1))   \n",
    "\n",
    "    tlist = np.linspace(0,1000,1001)\n",
    "\n",
    "    output = np.append(output, mesolve(H, psi0, tlist, c_ops, [a.dag() * a, sm.dag() * sm]).expect[1][-1])    \n",
    "    \n",
    "plt.plot(n_th_arr, output)"
   ]
  },
  {
   "cell_type": "code",
   "execution_count": 84,
   "metadata": {},
   "outputs": [
    {
     "data": {
      "text/plain": [
       "[<matplotlib.lines.Line2D at 0x225184ac688>]"
      ]
     },
     "execution_count": 84,
     "metadata": {},
     "output_type": "execute_result"
    },
    {
     "data": {
      "image/png": "[encoded data removed]",
      "text/plain": [
       "<Figure size 432x288 with 1 Axes>"
      ]
     },
     "metadata": {
      "needs_background": "light"
     },
     "output_type": "display_data"
    }
   ],
   "source": [
    "wa_arr = np.linspace(0.25, 1.25, 20) * 2 * np.pi \n",
    "psi0 = tensor(basis(N,0), basis(2,0)) \n",
    "output = np.array([])\n",
    "for i in wa_arr:\n",
    "    wa = i\n",
    "    c_ops = init_c_ops()\n",
    "    psi0 = tensor(basis(N,5), basis(2,1))   \n",
    "\n",
    "    tlist = np.linspace(0,1000,1001)\n",
    "\n",
    "    output = np.append(output, mesolve(H, psi0, tlist, c_ops, [a.dag() * a, sm.dag() * sm]).expect[0][-1])    \n",
    "    \n",
    "plt.plot(wa_arr, output) # старнно, в модели смена частоты не приводит к смене равновесного состояния"
   ]
  },
  {
   "cell_type": "code",
   "execution_count": 88,
   "metadata": {},
   "outputs": [
    {
     "data": {
      "image/png": "[encoded data removed]",
      "text/plain": [
       "<Figure size 432x288 with 1 Axes>"
      ]
     },
     "metadata": {
      "needs_background": "light"
     },
     "output_type": "display_data"
    }
   ],
   "source": [
    "fig, ax = plt.subplots()\n",
    "ax.plot(wa_arr/2/np.pi, output)\n",
    "plt.show()"
   ]
  },
  {
   "cell_type": "markdown",
   "metadata": {},
   "source": [
    "## Cavity wigner function\n",
    "\n",
    "In addition to the cavity's and atom's excitation probabilities, we may also be interested in for example the wigner function as a function of time. The Wigner function can give some valuable insight in the nature of the state of the resonators. \n",
    "\n",
    "To calculate the Wigner function in QuTiP, we first recalculte the evolution without specifying any expectation value operators, which will result in that the solver return a list of density matrices for the system for the given time coordinates."
   ]
  },
  {
   "cell_type": "markdown",
   "metadata": {},
   "source": [
    "output = mesolve(H, psi0, tlist, c_ops, [])"
   ]
  },
  {
   "cell_type": "markdown",
   "metadata": {},
   "source": [
    "Now, `output.states` contains a list of density matrices for the system for the time points specified in the list `tlist`:"
   ]
  },
  {
   "cell_type": "markdown",
   "metadata": {},
   "source": [
    "output"
   ]
  },
  {
   "cell_type": "markdown",
   "metadata": {},
   "source": [
    "type(output.states)"
   ]
  },
  {
   "cell_type": "markdown",
   "metadata": {},
   "source": [
    "len(output.states)"
   ]
  },
  {
   "cell_type": "markdown",
   "metadata": {},
   "source": [
    "output.states[-1] # indexing the list with -1 results in the last element in the list"
   ]
  },
  {
   "cell_type": "markdown",
   "metadata": {},
   "source": [
    "Now let's look at the Wigner functions at the point in time when atom is in its ground state: $t = \\\\{5, 15, 25\\\\}$ (see the plot above). \n",
    "\n",
    "For each of these points in time we need to:\n",
    "\n",
    " 1. Find the system density matrix for the points in time that we are interested in.\n",
    " 2. Trace out the atom and obtain the reduced density matrix for the cavity.\n",
    " 3. Calculate and visualize the Wigner function fo the reduced cavity density matrix."
   ]
  },
  {
   "cell_type": "markdown",
   "metadata": {},
   "source": [
    "# find the indices of the density matrices for the times we are interested in\n",
    "t_idx = where([tlist == t for t in [0.0, 5.0, 15.0, 25.0]])[1]\n",
    "tlist[t_idx]"
   ]
  },
  {
   "cell_type": "markdown",
   "metadata": {},
   "source": [
    "# get a list density matrices\n",
    "rho_list = array(output.states)[t_idx]"
   ]
  },
  {
   "cell_type": "markdown",
   "metadata": {},
   "source": [
    "# loop over the list of density matrices\n",
    "\n",
    "xvec = np.linspace(-3,3,200)\n",
    "\n",
    "fig, axes = plt.subplots(1,len(rho_list), sharex=True, figsize=(3*len(rho_list),3))\n",
    "\n",
    "for idx, rho in enumerate(rho_list):\n",
    "\n",
    "    # trace out the atom from the density matrix, to obtain\n",
    "    # the reduced density matrix for the cavity\n",
    "    rho_cavity = ptrace(rho, 0)\n",
    "    \n",
    "    # calculate its wigner function\n",
    "    W = wigner(rho_cavity, xvec, xvec)\n",
    "    \n",
    "    # plot its wigner function\n",
    "    axes[idx].contourf(xvec, xvec, W, 100, norm=mpl.colors.Normalize(-.25,.25), cmap=plt.get_cmap('RdBu'))\n",
    "\n",
    "    axes[idx].set_title(r\"$t = %.1f$\" % tlist[t_idx][idx], fontsize=16)\n",
    "    "
   ]
  },
  {
   "cell_type": "markdown",
   "metadata": {},
   "source": [
    "At $t =0$, the cavity is in it's ground state. At $t = 5, 15, 25$ it reaches it's maxium occupation in this Rabi-vacuum oscillation process. We can note that for $t=5$ and $t=15$ the Wigner function has negative values, indicating a truely quantum mechanical state. At $t=25$, however, the wigner function no longer has negative values and can therefore be considered a classical state."
   ]
  },
  {
   "cell_type": "markdown",
   "metadata": {},
   "source": [
    "### Alternative view of the same thing"
   ]
  },
  {
   "cell_type": "markdown",
   "metadata": {},
   "source": [
    "t_idx = where([tlist == t for t in [0.0, 5.0, 10, 15, 20, 25]])[1]\n",
    "rho_list = array(output.states)[t_idx]\n",
    "\n",
    "fig_grid = (2, len(rho_list)*2)\n",
    "fig = plt.figure(figsize=(2.5*len(rho_list),5))\n",
    "\n",
    "for idx, rho in enumerate(rho_list):\n",
    "    rho_cavity = ptrace(rho, 0)\n",
    "    W = wigner(rho_cavity, xvec, xvec)\n",
    "    ax = plt.subplot2grid(fig_grid, (0, 2*idx), colspan=2)\n",
    "    ax.contourf(xvec, xvec, W, 100, norm=mpl.colors.Normalize(-.25,.25), cmap=plt.get_cmap('RdBu'))\n",
    "    ax.set_title(r\"$t = %.1f$\" % tlist[t_idx][idx], fontsize=16)\n",
    "\n",
    "# plot the cavity occupation probability in the ground state\n",
    "ax = plt.subplot2grid(fig_grid, (1, 1), colspan=(fig_grid[1]-2))\n",
    "ax.plot(tlist, n_c, label=\"Cavity\")\n",
    "ax.plot(tlist, n_a, label=\"Atom excited state\")\n",
    "ax.legend()\n",
    "ax.set_xlabel('Time')\n",
    "ax.set_ylabel('Occupation probability');"
   ]
  },
  {
   "cell_type": "markdown",
   "metadata": {},
   "source": [
    "### Software versions"
   ]
  },
  {
   "cell_type": "markdown",
   "metadata": {},
   "source": [
    "from qutip.ipynbtools import version_table\n",
    "\n",
    "version_table()"
   ]
  },
  {
   "cell_type": "code",
   "execution_count": null,
   "metadata": {},
   "outputs": [],
   "source": []
  }
 ],
 "metadata": {
  "kernelspec": {
   "display_name": "Python 3",
   "language": "python",
   "name": "python3"
  },
  "language_info": {
   "codemirror_mode": {
    "name": "ipython",
    "version": 3
   },
   "file_extension": ".py",
   "mimetype": "text/x-python",
   "name": "python",
   "nbconvert_exporter": "python",
   "pygments_lexer": "ipython3",
   "version": "3.8.5"
  }
 },
 "nbformat": 4,
 "nbformat_minor": 4
}
